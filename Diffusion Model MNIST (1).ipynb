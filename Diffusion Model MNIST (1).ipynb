{
 "cells": [
  {
   "cell_type": "code",
   "execution_count": null,
   "id": "0c5acf5a",
   "metadata": {
    "papermill": {
     "duration": 0.005262,
     "end_time": "2025-08-10T21:27:04.527240",
     "exception": false,
     "start_time": "2025-08-10T21:27:04.521978",
     "status": "completed"
    },
    "tags": []
   },
   "outputs": [],
   "source": []
  },
  {
   "cell_type": "markdown",
   "id": "df9754a6",
   "metadata": {
    "papermill": {
     "duration": 0.003922,
     "end_time": "2025-08-10T21:27:04.535705",
     "exception": false,
     "start_time": "2025-08-10T21:27:04.531783",
     "status": "completed"
    },
    "tags": []
   },
   "source": [
    "# Building a Diffusion Model from Scratch on MNIST\n",
    "\n",
    "This notebook provides a complete implementation of a diffusion model for generating MNIST digits. We'll build everything from scratch, including the noise scheduler, U-Net architecture, and training/sampling procedures.\n",
    "\n",
    "## Table of Contents\n",
    "1. [Introduction to Diffusion Models](#intro)\n",
    "2. [Dataset Preparation](#dataset)\n",
    "3. [Diffusion Process & Scheduler](#scheduler)\n",
    "4. [U-Net Model Architecture](#unet)\n",
    "5. [Training Process](#training)\n",
    "6. [Sampling & Generation](#sampling)\n",
    "7. [Evaluation & Results](#evaluation)\n",
    "8. [Demo & Visualization](#demo)\n",
    "9. [Advanced Features & Extensions](#advanced)\n",
    "10. [Conclusion & Next Steps](#conclusion)"
   ]
  },
  {
   "cell_type": "markdown",
   "id": "dbfc0a81",
   "metadata": {
    "papermill": {
     "duration": 0.003833,
     "end_time": "2025-08-10T21:27:04.543595",
     "exception": false,
     "start_time": "2025-08-10T21:27:04.539762",
     "status": "completed"
    },
    "tags": []
   },
   "source": [
    "## 1. Introduction to Diffusion Models <a id='intro'></a>\n",
    "\n",
    "Diffusion models are generative models that learn to generate data by reversing a gradual noising process. The key idea is:\n",
    "\n",
    "- **Forward Process**: Gradually add noise to real data until it becomes pure noise\n",
    "- **Reverse Process**: Learn to remove noise step by step to generate new samples\n",
    "\n",
    "### Why Diffusion Models?\n",
    "- **Stable Training**: Unlike GANs, no adversarial training\n",
    "- **High Quality**: Can generate very high-quality samples\n",
    "- **Flexible**: Easy to condition on classes or other attributes\n",
    "\n",
    "### Mathematical Foundation\n",
    "The forward process is defined as:\n",
    "$$q(x_t | x_{t-1}) = \\mathcal{N}(x_t; \\sqrt{1-\\beta_t} x_{t-1}, \\beta_t I)$$\n",
    "\n",
    "The reverse process (what we learn) is:\n",
    "$$p_\\theta(x_{t-1} | x_t) = \\mathcal{N}(x_{t-1}; \\mu_\\theta(x_t, t), \\sigma_t^2 I)$$"
   ]
  },
  {
   "cell_type": "markdown",
   "id": "c0be2d56",
   "metadata": {
    "papermill": {
     "duration": 0.004131,
     "end_time": "2025-08-10T21:27:04.551730",
     "exception": false,
     "start_time": "2025-08-10T21:27:04.547599",
     "status": "completed"
    },
    "tags": []
   },
   "source": [
    "## 2. Dataset Preparation <a id='dataset'></a>\n",
    "\n",
    "We'll use the MNIST dataset for this implementation. MNIST consists of 28x28 grayscale images of handwritten digits (0-9).\n",
    "\n",
    "### Dataset Characteristics\n",
    "- **Image Size**: 28×28 pixels\n",
    "- **Channels**: 1 (grayscale)\n",
    "- **Classes**: 10 digits (0-9)\n",
    "- **Training Samples**: 60,000\n",
    "- **Test Samples**: 10,000\n",
    "\n",
    "### Preprocessing\n",
    "- Normalize pixel values to [-1, 1] range\n",
    "- Convert to PyTorch tensors\n",
    "- Optional: Data augmentation for robustness"
   ]
  },
  {
   "cell_type": "code",
   "execution_count": 1,
   "id": "0db2228d",
   "metadata": {
    "execution": {
     "iopub.execute_input": "2025-08-10T21:27:04.561655Z",
     "iopub.status.busy": "2025-08-10T21:27:04.560781Z",
     "iopub.status.idle": "2025-08-10T21:27:17.458861Z",
     "shell.execute_reply": "2025-08-10T21:27:17.457782Z"
    },
    "papermill": {
     "duration": 12.904673,
     "end_time": "2025-08-10T21:27:17.460365",
     "exception": false,
     "start_time": "2025-08-10T21:27:04.555692",
     "status": "completed"
    },
    "tags": []
   },
   "outputs": [
    {
     "name": "stdout",
     "output_type": "stream",
     "text": [
      "Using device: cuda\n",
      "Loading MNIST dataset...\n"
     ]
    },
    {
     "name": "stderr",
     "output_type": "stream",
     "text": [
      "100%|██████████| 9.91M/9.91M [00:00<00:00, 59.2MB/s]\n",
      "100%|██████████| 28.9k/28.9k [00:00<00:00, 1.65MB/s]\n",
      "100%|██████████| 1.65M/1.65M [00:00<00:00, 15.2MB/s]\n",
      "100%|██████████| 4.54k/4.54k [00:00<00:00, 6.57MB/s]"
     ]
    },
    {
     "name": "stdout",
     "output_type": "stream",
     "text": [
      "Dataset loaded: 60000 samples\n"
     ]
    },
    {
     "name": "stderr",
     "output_type": "stream",
     "text": [
      "\n"
     ]
    }
   ],
   "source": [
    "# Simple Diffusion Model for MNIST\n",
    "# Streamlined implementation with essential features only\n",
    "\n",
    "import torch\n",
    "import torch.nn as nn\n",
    "import torch.nn.functional as F\n",
    "import torch.optim as optim\n",
    "from torch.utils.data import DataLoader, TensorDataset\n",
    "import numpy as np\n",
    "import matplotlib.pyplot as plt\n",
    "from tqdm import tqdm\n",
    "import math\n",
    "import os\n",
    "\n",
    "# Set device\n",
    "device = torch.device('cuda' if torch.cuda.is_available() else 'cpu')\n",
    "print(f\"Using device: {device}\")\n",
    "\n",
    "# Set seed for reproducibility\n",
    "torch.manual_seed(42)\n",
    "np.random.seed(42)\n",
    "\n",
    "# ====================\n",
    "# 1. LOAD MNIST DATA\n",
    "# ====================\n",
    "def load_mnist():\n",
    "    \"\"\"Load MNIST using torchvision\"\"\"\n",
    "    from torchvision import datasets, transforms\n",
    "    \n",
    "    transform = transforms.Compose([\n",
    "        transforms.ToTensor(),\n",
    "        transforms.Normalize((0.5,), (0.5,))  # Normalize to [-1, 1]\n",
    "    ])\n",
    "    \n",
    "    train_dataset = datasets.MNIST(\n",
    "        root='./data',\n",
    "        train=True,\n",
    "        download=True,\n",
    "        transform=transform\n",
    "    )\n",
    "    \n",
    "    return train_dataset\n",
    "\n",
    "# Load data\n",
    "print(\"Loading MNIST dataset...\")\n",
    "train_dataset = load_mnist()\n",
    "train_loader = DataLoader(train_dataset, batch_size=128, shuffle=True, num_workers=0)\n",
    "print(f\"Dataset loaded: {len(train_dataset)} samples\")\n"
   ]
  },
  {
   "cell_type": "markdown",
   "id": "a5b35316",
   "metadata": {
    "papermill": {
     "duration": 0.005346,
     "end_time": "2025-08-10T21:27:17.471207",
     "exception": false,
     "start_time": "2025-08-10T21:27:17.465861",
     "status": "completed"
    },
    "tags": []
   },
   "source": [
    "## 3. Diffusion Process & Scheduler <a id='scheduler'></a>\n",
    "\n",
    "The diffusion process consists of two main components:\n",
    "\n",
    "### Forward Process (Adding Noise)\n",
    "Gradually adds Gaussian noise to the data over T timesteps:\n",
    "$$q(x_t | x_{t-1}) = \\mathcal{N}(x_t; \\sqrt{1-\\beta_t} x_{t-1}, \\beta_t I)$$\n",
    "\n",
    "### Noise Schedule\n",
    "We can sample $x_t$ directly from $x_0$ using:\n",
    "$$x_t = \\sqrt{\\bar{\\alpha}_t} x_0 + \\sqrt{1-\\bar{\\alpha}_t} \\epsilon$$\n",
    "\n",
    "Where:\n",
    "- $\\beta_t$: Noise schedule (variance)\n",
    "- $\\alpha_t = 1 - \\beta_t$\n",
    "- $\\bar{\\alpha}_t = \\prod_{s=1}^{t} \\alpha_s$: Cumulative product\n",
    "- $\\epsilon \\sim \\mathcal{N}(0, I)$: Gaussian noise"
   ]
  },
  {
   "cell_type": "code",
   "execution_count": null,
   "id": "fbdd30a8",
   "metadata": {
    "papermill": {
     "duration": 0.00567,
     "end_time": "2025-08-10T21:27:17.481878",
     "exception": false,
     "start_time": "2025-08-10T21:27:17.476208",
     "status": "completed"
    },
    "tags": []
   },
   "outputs": [],
   "source": []
  },
  {
   "cell_type": "code",
   "execution_count": 2,
   "id": "4b00a3ff",
   "metadata": {
    "execution": {
     "iopub.execute_input": "2025-08-10T21:27:17.493346Z",
     "iopub.status.busy": "2025-08-10T21:27:17.492696Z",
     "iopub.status.idle": "2025-08-10T21:27:17.499365Z",
     "shell.execute_reply": "2025-08-10T21:27:17.498685Z"
    },
    "papermill": {
     "duration": 0.013847,
     "end_time": "2025-08-10T21:27:17.500618",
     "exception": false,
     "start_time": "2025-08-10T21:27:17.486771",
     "status": "completed"
    },
    "tags": []
   },
   "outputs": [],
   "source": [
    "# ====================\n",
    "# 2 NOISE SCHEDULER\n",
    "# ====================\n",
    "class NoiseScheduler:\n",
    "    \"\"\"Simple linear noise scheduler\"\"\"\n",
    "    def __init__(self, timesteps=1000, beta_start=0.0001, beta_end=0.02):\n",
    "        self.timesteps = timesteps\n",
    "        \n",
    "        # Linear schedule\n",
    "        self.betas = torch.linspace(beta_start, beta_end, timesteps).to(device)\n",
    "        self.alphas = 1.0 - self.betas\n",
    "        self.alphas_cumprod = torch.cumprod(self.alphas, dim=0)\n",
    "        \n",
    "        # For sampling\n",
    "        self.sqrt_alphas_cumprod = torch.sqrt(self.alphas_cumprod)\n",
    "        self.sqrt_one_minus_alphas_cumprod = torch.sqrt(1.0 - self.alphas_cumprod)\n",
    "    \n",
    "    def add_noise(self, x_start, noise, timesteps):\n",
    "        \"\"\"Add noise to images\"\"\"\n",
    "        sqrt_alpha = self.sqrt_alphas_cumprod[timesteps].reshape(-1, 1, 1, 1)\n",
    "        sqrt_one_minus_alpha = self.sqrt_one_minus_alphas_cumprod[timesteps].reshape(-1, 1, 1, 1)\n",
    "        return sqrt_alpha * x_start + sqrt_one_minus_alpha * noise\n",
    "    \n",
    "    def sample_timesteps(self, batch_size):\n",
    "        \"\"\"Sample random timesteps\"\"\"\n",
    "        return torch.randint(0, self.timesteps, (batch_size,), device=device)"
   ]
  },
  {
   "cell_type": "code",
   "execution_count": null,
   "id": "145236bb",
   "metadata": {
    "papermill": {
     "duration": 0.004752,
     "end_time": "2025-08-10T21:27:17.510317",
     "exception": false,
     "start_time": "2025-08-10T21:27:17.505565",
     "status": "completed"
    },
    "tags": []
   },
   "outputs": [],
   "source": []
  },
  {
   "cell_type": "markdown",
   "id": "eda9548b",
   "metadata": {
    "papermill": {
     "duration": 0.004541,
     "end_time": "2025-08-10T21:27:17.519438",
     "exception": false,
     "start_time": "2025-08-10T21:27:17.514897",
     "status": "completed"
    },
    "tags": []
   },
   "source": [
    "## 4. U-Net Model Architecture <a id='unet'></a>\n",
    "\n",
    "The U-Net architecture is crucial for diffusion models. It consists of:\n",
    "\n",
    "### Components\n",
    "1. **Time Embedding**: Encodes the current timestep using sinusoidal embeddings\n",
    "2. **Encoder (Downsampling)**: Extracts features while reducing spatial dimensions\n",
    "3. **Bottleneck**: Processes features at the lowest resolution\n",
    "4. **Decoder (Upsampling)**: Reconstructs the output while increasing spatial dimensions\n",
    "5. **Skip Connections**: Connect encoder and decoder layers\n",
    "\n",
    "### Key Features\n",
    "- **Input**: Noisy image + timestep embedding + optional class conditioning\n",
    "- **Output**: Predicted noise (or denoised image)\n",
    "- **Skip Connections**: Preserve fine-grained details\n",
    "- **Attention Layers**: Capture long-range dependencies"
   ]
  },
  {
   "cell_type": "code",
   "execution_count": 3,
   "id": "7fac9ddf",
   "metadata": {
    "execution": {
     "iopub.execute_input": "2025-08-10T21:27:17.530564Z",
     "iopub.status.busy": "2025-08-10T21:27:17.530274Z",
     "iopub.status.idle": "2025-08-10T21:27:17.547406Z",
     "shell.execute_reply": "2025-08-10T21:27:17.546767Z"
    },
    "papermill": {
     "duration": 0.0247,
     "end_time": "2025-08-10T21:27:17.548747",
     "exception": false,
     "start_time": "2025-08-10T21:27:17.524047",
     "status": "completed"
    },
    "tags": []
   },
   "outputs": [],
   "source": [
    "# ====================\n",
    "# 3. SIMPLE U-NET MODEL\n",
    "# ====================\n",
    "class SinusoidalEmbedding(nn.Module):\n",
    "    \"\"\"Time embeddings\"\"\"\n",
    "    def __init__(self, dim):\n",
    "        super().__init__()\n",
    "        self.dim = dim\n",
    "    \n",
    "    def forward(self, time):\n",
    "        half_dim = self.dim // 2\n",
    "        embeddings = math.log(10000) / (half_dim - 1)\n",
    "        embeddings = torch.exp(torch.arange(half_dim, device=time.device) * -embeddings)\n",
    "        embeddings = time[:, None] * embeddings[None, :]\n",
    "        embeddings = torch.cat((embeddings.sin(), embeddings.cos()), dim=-1)\n",
    "        return embeddings\n",
    "\n",
    "class ResBlock(nn.Module):\n",
    "    \"\"\"Simple residual block\"\"\"\n",
    "    def __init__(self, in_channels, out_channels, time_dim):\n",
    "        super().__init__()\n",
    "        self.conv1 = nn.Conv2d(in_channels, out_channels, 3, padding=1)\n",
    "        self.conv2 = nn.Conv2d(out_channels, out_channels, 3, padding=1)\n",
    "        self.time_mlp = nn.Linear(time_dim, out_channels)\n",
    "        self.norm1 = nn.GroupNorm(8, out_channels)\n",
    "        self.norm2 = nn.GroupNorm(8, out_channels)\n",
    "        \n",
    "        if in_channels != out_channels:\n",
    "            self.shortcut = nn.Conv2d(in_channels, out_channels, 1)\n",
    "        else:\n",
    "            self.shortcut = nn.Identity()\n",
    "    \n",
    "    def forward(self, x, time_emb):\n",
    "        h = self.conv1(x)\n",
    "        h = self.norm1(h)\n",
    "        h = F.relu(h)\n",
    "        \n",
    "        # Add time embedding\n",
    "        h = h + self.time_mlp(time_emb)[:, :, None, None]\n",
    "        \n",
    "        h = self.conv2(h)\n",
    "        h = self.norm2(h)\n",
    "        h = F.relu(h)\n",
    "        \n",
    "        return h + self.shortcut(x)\n",
    "\n",
    "class SimpleUNet(nn.Module):\n",
    "    \"\"\"Simplified U-Net for MNIST (28x28) with class conditioning\"\"\"\n",
    "    def __init__(self, num_classes=10):\n",
    "        super().__init__()\n",
    "        \n",
    "        # Time embedding\n",
    "        time_dim = 128\n",
    "        self.time_mlp = nn.Sequential(\n",
    "            SinusoidalEmbedding(time_dim),\n",
    "            nn.Linear(time_dim, time_dim * 2),\n",
    "            nn.ReLU(),\n",
    "            nn.Linear(time_dim * 2, time_dim * 2)\n",
    "        )\n",
    "        \n",
    "        # Class embedding\n",
    "        self.class_emb = nn.Embedding(num_classes, time_dim * 2)\n",
    "        \n",
    "        # Initial conv\n",
    "        self.conv_in = nn.Conv2d(1, 64, 3, padding=1)\n",
    "        \n",
    "        # Encoder\n",
    "        self.enc1 = ResBlock(64, 64, time_dim * 2)  # 28x28\n",
    "        self.down1 = nn.Conv2d(64, 64, 3, stride=2, padding=1)  # -> 14x14\n",
    "        \n",
    "        self.enc2 = ResBlock(64, 128, time_dim * 2)  # 14x14\n",
    "        self.down2 = nn.Conv2d(128, 128, 3, stride=2, padding=1)  # -> 7x7\n",
    "        \n",
    "        self.enc3 = ResBlock(128, 256, time_dim * 2)  # 7x7\n",
    "        \n",
    "        # Bottleneck\n",
    "        self.bottleneck = ResBlock(256, 256, time_dim * 2)\n",
    "        \n",
    "        # Decoder\n",
    "        self.dec3 = ResBlock(256 + 256, 256, time_dim * 2)  # 7x7\n",
    "        self.up2 = nn.ConvTranspose2d(256, 128, 4, stride=2, padding=1)  # -> 14x14\n",
    "        \n",
    "        self.dec2 = ResBlock(128 + 128, 128, time_dim * 2)  # 14x14\n",
    "        self.up1 = nn.ConvTranspose2d(128, 64, 4, stride=2, padding=1)  # -> 28x28\n",
    "        \n",
    "        self.dec1 = ResBlock(64 + 64, 64, time_dim * 2)  # 28x28\n",
    "        \n",
    "        # Output\n",
    "        self.conv_out = nn.Sequential(\n",
    "            nn.GroupNorm(8, 64),\n",
    "            nn.ReLU(),\n",
    "            nn.Conv2d(64, 1, 3, padding=1)\n",
    "        )\n",
    "    \n",
    "    def forward(self, x, timesteps, class_labels=None):\n",
    "        # Time embedding\n",
    "        time_emb = self.time_mlp(timesteps)\n",
    "        \n",
    "        # Add class embedding if provided\n",
    "        if class_labels is not None:\n",
    "            class_emb = self.class_emb(class_labels)\n",
    "            time_emb = time_emb + class_emb\n",
    "        \n",
    "        # Initial conv\n",
    "        h = self.conv_in(x)\n",
    "        \n",
    "        # Encoder with skip connections\n",
    "        h1 = self.enc1(h, time_emb)  # 28x28\n",
    "        h = self.down1(h1)\n",
    "        \n",
    "        h2 = self.enc2(h, time_emb)  # 14x14\n",
    "        h = self.down2(h2)\n",
    "        \n",
    "        h3 = self.enc3(h, time_emb)  # 7x7\n",
    "        \n",
    "        # Bottleneck\n",
    "        h = self.bottleneck(h3, time_emb)\n",
    "        \n",
    "        # Decoder with skip connections\n",
    "        h = torch.cat([h, h3], dim=1)\n",
    "        h = self.dec3(h, time_emb)\n",
    "        \n",
    "        h = self.up2(h)\n",
    "        h = torch.cat([h, h2], dim=1)\n",
    "        h = self.dec2(h, time_emb)\n",
    "        \n",
    "        h = self.up1(h)\n",
    "        h = torch.cat([h, h1], dim=1)\n",
    "        h = self.dec1(h, time_emb)\n",
    "        \n",
    "        # Output\n",
    "        h = self.conv_out(h)\n",
    "        return h\n"
   ]
  },
  {
   "cell_type": "code",
   "execution_count": null,
   "id": "317623e8",
   "metadata": {
    "papermill": {
     "duration": 0.004747,
     "end_time": "2025-08-10T21:27:17.558703",
     "exception": false,
     "start_time": "2025-08-10T21:27:17.553956",
     "status": "completed"
    },
    "tags": []
   },
   "outputs": [],
   "source": []
  },
  {
   "cell_type": "markdown",
   "id": "a673ef29",
   "metadata": {
    "papermill": {
     "duration": 0.005238,
     "end_time": "2025-08-10T21:27:17.568977",
     "exception": false,
     "start_time": "2025-08-10T21:27:17.563739",
     "status": "completed"
    },
    "tags": []
   },
   "source": [
    "## 5. Training Process <a id='training'></a>\n",
    "\n",
    "The training objective for diffusion models is to predict the noise added to images:\n",
    "\n",
    "### Loss Function\n",
    "$$L_{\\text{simple}} = \\mathbb{E}_{t, \\epsilon \\sim \\mathcal{N}(0,I)} [||\\epsilon - \\epsilon_\\theta(x_t, t)||^2]$$\n",
    "\n",
    "Where:\n",
    "- $\\epsilon$: True noise added to the image\n",
    "- $\\epsilon_\\theta(x_t, t)$: Predicted noise by the model\n",
    "- $x_t$: Noisy image at timestep t\n",
    "\n",
    "### Training Algorithm\n",
    "1. Sample batch of images $x_0$\n",
    "2. Sample random timesteps $t$\n",
    "3. Sample noise $\\epsilon \\sim \\mathcal{N}(0, I)$\n",
    "4. Create noisy images $x_t = \\sqrt{\\bar{\\alpha}_t} x_0 + \\sqrt{1-\\bar{\\alpha}_t} \\epsilon$\n",
    "5. Predict noise $\\epsilon_\\theta(x_t, t)$\n",
    "6. Compute MSE loss and backpropagate"
   ]
  },
  {
   "cell_type": "code",
   "execution_count": 4,
   "id": "699a3a84",
   "metadata": {
    "execution": {
     "iopub.execute_input": "2025-08-10T21:27:17.579879Z",
     "iopub.status.busy": "2025-08-10T21:27:17.579564Z",
     "iopub.status.idle": "2025-08-10T21:27:17.586908Z",
     "shell.execute_reply": "2025-08-10T21:27:17.586215Z"
    },
    "papermill": {
     "duration": 0.014529,
     "end_time": "2025-08-10T21:27:17.588229",
     "exception": false,
     "start_time": "2025-08-10T21:27:17.573700",
     "status": "completed"
    },
    "tags": []
   },
   "outputs": [],
   "source": [
    "# ====================\n",
    "# 4. TRAINING\n",
    "# ====================\n",
    "def train_model(model, train_loader, epochs=10, lr=1e-3):\n",
    "    \"\"\"Simple training loop with class conditioning\"\"\"\n",
    "    optimizer = optim.Adam(model.parameters(), lr=lr)\n",
    "    criterion = nn.MSELoss()\n",
    "    noise_scheduler = NoiseScheduler(timesteps=1000)\n",
    "    \n",
    "    model.train()\n",
    "    losses = []\n",
    "    \n",
    "    for epoch in range(epochs):\n",
    "        epoch_loss = 0\n",
    "        progress_bar = tqdm(train_loader, desc=f'Epoch {epoch+1}/{epochs}')\n",
    "        \n",
    "        for batch_idx, (images, labels) in enumerate(progress_bar):\n",
    "            images = images.to(device)\n",
    "            labels = labels.to(device)\n",
    "            batch_size = images.shape[0]\n",
    "            \n",
    "            # Sample timesteps\n",
    "            t = noise_scheduler.sample_timesteps(batch_size)\n",
    "            \n",
    "            # Add noise\n",
    "            noise = torch.randn_like(images)\n",
    "            noisy_images = noise_scheduler.add_noise(images, noise, t)\n",
    "            \n",
    "            # Predict noise with class conditioning\n",
    "            predicted_noise = model(noisy_images, t, labels)\n",
    "            \n",
    "            # Calculate loss\n",
    "            loss = criterion(predicted_noise, noise)\n",
    "            \n",
    "            # Backprop\n",
    "            optimizer.zero_grad()\n",
    "            loss.backward()\n",
    "            optimizer.step()\n",
    "            \n",
    "            # Update progress\n",
    "            epoch_loss += loss.item()\n",
    "            progress_bar.set_postfix({'loss': f'{loss.item():.4f}'})\n",
    "        \n",
    "        avg_loss = epoch_loss / len(train_loader)\n",
    "        losses.append(avg_loss)\n",
    "        print(f'Epoch {epoch+1}/{epochs}, Average Loss: {avg_loss:.4f}')\n",
    "    \n",
    "    return losses"
   ]
  },
  {
   "cell_type": "code",
   "execution_count": null,
   "id": "302ba5b9",
   "metadata": {
    "papermill": {
     "duration": 0.004826,
     "end_time": "2025-08-10T21:27:17.598123",
     "exception": false,
     "start_time": "2025-08-10T21:27:17.593297",
     "status": "completed"
    },
    "tags": []
   },
   "outputs": [],
   "source": []
  },
  {
   "cell_type": "markdown",
   "id": "da7277d7",
   "metadata": {
    "papermill": {
     "duration": 0.004904,
     "end_time": "2025-08-10T21:27:17.607871",
     "exception": false,
     "start_time": "2025-08-10T21:27:17.602967",
     "status": "completed"
    },
    "tags": []
   },
   "source": [
    "## 6. Sampling & Generation <a id='sampling'></a>\n",
    "\n",
    "The sampling process reverses the diffusion process to generate new images:\n",
    "\n",
    "### Reverse Process\n",
    "Starting from pure noise $x_T \\sim \\mathcal{N}(0, I)$, we iteratively denoise:\n",
    "\n",
    "$$x_{t-1} = \\frac{1}{\\sqrt{\\alpha_t}} \\left( x_t - \\frac{\\beta_t}{\\sqrt{1-\\bar{\\alpha}_t}} \\epsilon_\\theta(x_t, t) \\right) + \\sigma_t z$$\n",
    "\n",
    "Where $z \\sim \\mathcal{N}(0, I)$ and $\\sigma_t$ is the noise schedule variance.\n",
    "\n",
    "### Sampling Algorithms\n",
    "1. **DDPM Sampling**: Full reverse process with all timesteps\n",
    "2. **DDIM Sampling**: Deterministic sampling with fewer steps\n",
    "3. **Classifier-Free Guidance**: Conditional generation without external classifier"
   ]
  },
  {
   "cell_type": "code",
   "execution_count": 5,
   "id": "8f1e11bf",
   "metadata": {
    "execution": {
     "iopub.execute_input": "2025-08-10T21:27:17.619554Z",
     "iopub.status.busy": "2025-08-10T21:27:17.618911Z",
     "iopub.status.idle": "2025-08-10T21:27:17.625305Z",
     "shell.execute_reply": "2025-08-10T21:27:17.624632Z"
    },
    "papermill": {
     "duration": 0.013602,
     "end_time": "2025-08-10T21:27:17.626533",
     "exception": false,
     "start_time": "2025-08-10T21:27:17.612931",
     "status": "completed"
    },
    "tags": []
   },
   "outputs": [],
   "source": [
    "# ====================\n",
    "# 5. SAMPLING\n",
    "# ====================\n",
    "@torch.no_grad()\n",
    "def sample(model, num_samples=16, class_labels=None, timesteps=1000):\n",
    "    \"\"\"Generate samples using DDPM with optional class conditioning\"\"\"\n",
    "    model.eval()\n",
    "    noise_scheduler = NoiseScheduler(timesteps=timesteps)\n",
    "    \n",
    "    # Start from random noise\n",
    "    x = torch.randn(num_samples, 1, 28, 28, device=device)\n",
    "    \n",
    "    # Denoise step by step\n",
    "    for t in tqdm(reversed(range(timesteps)), desc='Sampling'):\n",
    "        t_batch = torch.full((num_samples,), t, device=device, dtype=torch.long)\n",
    "        \n",
    "        # Predict noise with class conditioning\n",
    "        noise_pred = model(x, t_batch, class_labels)\n",
    "        \n",
    "        # Remove noise\n",
    "        alpha = noise_scheduler.alphas[t]\n",
    "        alpha_cumprod = noise_scheduler.alphas_cumprod[t]\n",
    "        beta = noise_scheduler.betas[t]\n",
    "        \n",
    "        if t > 0:\n",
    "            noise = torch.randn_like(x)\n",
    "            sigma = torch.sqrt(beta)\n",
    "        else:\n",
    "            noise = 0\n",
    "            sigma = 0\n",
    "        \n",
    "        # DDPM sampling step\n",
    "        x = (1 / torch.sqrt(alpha)) * (x - beta / torch.sqrt(1 - alpha_cumprod) * noise_pred)\n",
    "        x = x + sigma * noise\n",
    "    \n",
    "    return torch.clamp(x, -1, 1)"
   ]
  },
  {
   "cell_type": "code",
   "execution_count": null,
   "id": "8dc7d90c",
   "metadata": {
    "papermill": {
     "duration": 0.00468,
     "end_time": "2025-08-10T21:27:17.636215",
     "exception": false,
     "start_time": "2025-08-10T21:27:17.631535",
     "status": "completed"
    },
    "tags": []
   },
   "outputs": [],
   "source": []
  },
  {
   "cell_type": "markdown",
   "id": "72e2399c",
   "metadata": {
    "papermill": {
     "duration": 0.004868,
     "end_time": "2025-08-10T21:27:17.645974",
     "exception": false,
     "start_time": "2025-08-10T21:27:17.641106",
     "status": "completed"
    },
    "tags": []
   },
   "source": [
    "## 7. Evaluation & Results <a id='evaluation'></a>\n",
    "\n",
    "We evaluate our diffusion model using both qualitative and quantitative metrics:\n",
    "\n",
    "### Qualitative Evaluation\n",
    "- Visual inspection of generated samples\n",
    "- Diversity of generated digits\n",
    "- Quality of conditional generation\n",
    "\n",
    "### Quantitative Metrics\n",
    "- **FID (Fréchet Inception Distance)**: Measures similarity between generated and real images\n",
    "- **IS (Inception Score)**: Evaluates quality and diversity\n",
    "- **Classification Accuracy**: Using a pre-trained MNIST classifier on generated samples"
   ]
  },
  {
   "cell_type": "code",
   "execution_count": 6,
   "id": "fd7d12a3",
   "metadata": {
    "execution": {
     "iopub.execute_input": "2025-08-10T21:27:17.656973Z",
     "iopub.status.busy": "2025-08-10T21:27:17.656454Z",
     "iopub.status.idle": "2025-08-10T21:27:17.661688Z",
     "shell.execute_reply": "2025-08-10T21:27:17.661081Z"
    },
    "papermill": {
     "duration": 0.011997,
     "end_time": "2025-08-10T21:27:17.662876",
     "exception": false,
     "start_time": "2025-08-10T21:27:17.650879",
     "status": "completed"
    },
    "tags": []
   },
   "outputs": [],
   "source": [
    "# ====================\n",
    "# 6. VISUALIZATION\n",
    "# ====================\n",
    "def show_samples(samples, title=\"Generated Samples\"):\n",
    "    \"\"\"Display generated samples\"\"\"\n",
    "    samples = (samples + 1) / 2  # Convert from [-1, 1] to [0, 1]\n",
    "    \n",
    "    fig, axes = plt.subplots(4, 4, figsize=(8, 8))\n",
    "    axes = axes.flatten()\n",
    "    \n",
    "    for i in range(min(16, len(samples))):\n",
    "        axes[i].imshow(samples[i, 0].cpu(), cmap='gray')\n",
    "        axes[i].axis('off')\n",
    "    \n",
    "    plt.suptitle(title)\n",
    "    plt.tight_layout()\n",
    "    plt.show()"
   ]
  },
  {
   "cell_type": "code",
   "execution_count": null,
   "id": "f09f6604",
   "metadata": {
    "papermill": {
     "duration": 0.004841,
     "end_time": "2025-08-10T21:27:17.672698",
     "exception": false,
     "start_time": "2025-08-10T21:27:17.667857",
     "status": "completed"
    },
    "tags": []
   },
   "outputs": [],
   "source": []
  },
  {
   "cell_type": "code",
   "execution_count": 7,
   "id": "8dd19293",
   "metadata": {
    "execution": {
     "iopub.execute_input": "2025-08-10T21:27:17.683519Z",
     "iopub.status.busy": "2025-08-10T21:27:17.683233Z",
     "iopub.status.idle": "2025-08-10T21:27:17.697302Z",
     "shell.execute_reply": "2025-08-10T21:27:17.696479Z"
    },
    "papermill": {
     "duration": 0.021064,
     "end_time": "2025-08-10T21:27:17.698523",
     "exception": false,
     "start_time": "2025-08-10T21:27:17.677459",
     "status": "completed"
    },
    "tags": []
   },
   "outputs": [],
   "source": [
    "# ====================\n",
    "# 7. INTERACTIVE GENERATION\n",
    "# ====================\n",
    "def generate_digit_from_prompt(prompt, model, num_inference_steps=1000):\n",
    "    \"\"\"\n",
    "    Generate a digit from a text prompt (digit name or number)\n",
    "    Similar to the stable diffusion interface\n",
    "    \n",
    "    Example:\n",
    "        img = generate_digit_from_prompt(\"seven\", model)\n",
    "        img = generate_digit_from_prompt(\"3\", model)\n",
    "    \"\"\"\n",
    "    # Map text to digit\n",
    "    text_to_digit = {\n",
    "        'zero': 0, '0': 0,\n",
    "        'one': 1, '1': 1,\n",
    "        'two': 2, '2': 2,\n",
    "        'three': 3, '3': 3,\n",
    "        'four': 4, '4': 4,\n",
    "        'five': 5, '5': 5,\n",
    "        'six': 6, '6': 6,\n",
    "        'seven': 7, '7': 7,\n",
    "        'eight': 8, '8': 8,\n",
    "        'nine': 9, '9': 9\n",
    "    }\n",
    "    \n",
    "    prompt_lower = str(prompt).lower().strip()\n",
    "    \n",
    "    if prompt_lower not in text_to_digit:\n",
    "        print(f\"Cannot understand '{prompt}'. Please use 0-9 or 'zero' to 'nine'\")\n",
    "        return None\n",
    "    \n",
    "    digit = text_to_digit[prompt_lower]\n",
    "    class_label = torch.tensor([digit], device=device, dtype=torch.long)\n",
    "    \n",
    "    # Generate with specified steps\n",
    "    print(f\"Generating digit {digit} from prompt '{prompt}'...\")\n",
    "    img = sample(model, num_samples=1, class_labels=class_label, timesteps=num_inference_steps)\n",
    "    \n",
    "    return img\n",
    "\n",
    "def plot_image(img, prompt):\n",
    "    \"\"\"Plot generated image with prompt as title\"\"\"\n",
    "    if img is None:\n",
    "        return\n",
    "    \n",
    "    img = (img + 1) / 2  # Convert from [-1, 1] to [0, 1]\n",
    "    \n",
    "    plt.figure(figsize=(4, 4))\n",
    "    plt.imshow(img[0, 0].cpu(), cmap='gray')\n",
    "    plt.title(f\"Prompt: '{prompt}'\", fontsize=14)\n",
    "    plt.axis('off')\n",
    "    plt.show()\n",
    "\n",
    "def generate_digit(model, digit, num_samples=1):\n",
    "    \"\"\"Generate specific digit(s)\"\"\"\n",
    "    if digit < 0 or digit > 9:\n",
    "        print(\"Please enter a digit between 0 and 9\")\n",
    "        return None\n",
    "    \n",
    "    # Create class labels\n",
    "    class_labels = torch.full((num_samples,), digit, device=device, dtype=torch.long)\n",
    "    \n",
    "    # Generate samples\n",
    "    print(f\"Generating digit {digit}...\")\n",
    "    samples = sample(model, num_samples=num_samples, class_labels=class_labels, timesteps=1000)\n",
    "    \n",
    "    return samples\n",
    "\n",
    "def plot_digit(img, digit):\n",
    "    \"\"\"Plot a single generated digit\"\"\"\n",
    "    img = (img + 1) / 2  # Convert from [-1, 1] to [0, 1]\n",
    "    \n",
    "    plt.figure(figsize=(4, 4))\n",
    "    plt.imshow(img[0, 0].cpu(), cmap='gray')\n",
    "    plt.title(f\"Generated: {digit}\", fontsize=16)\n",
    "    plt.axis('off')\n",
    "    plt.show()\n",
    "\n",
    "def interactive_generation(model):\n",
    "    \"\"\"Interactive prompt for generating digits\"\"\"\n",
    "    print(\"\\n\" + \"=\"*50)\n",
    "    print(\"INTERACTIVE DIGIT GENERATION\")\n",
    "    print(\"=\"*50)\n",
    "    print(\"Enter a digit (0-9) to generate, or 'quit' to exit\")\n",
    "    print(\"You can also enter 'grid' to see all digits\")\n",
    "    print(\"=\"*50)\n",
    "    \n",
    "    while True:\n",
    "        prompt = input(\"\\nEnter digit to generate: \").strip().lower()\n",
    "        \n",
    "        if prompt == 'quit' or prompt == 'q':\n",
    "            print(\"Exiting...\")\n",
    "            break\n",
    "        \n",
    "        elif prompt == 'grid':\n",
    "            print(\"\\nGenerating all digits (0-9)...\")\n",
    "            fig, axes = plt.subplots(2, 5, figsize=(10, 4))\n",
    "            axes = axes.flatten()\n",
    "            \n",
    "            for digit in range(10):\n",
    "                img = generate_digit(model, digit, num_samples=1)\n",
    "                img = (img + 1) / 2  # Convert to [0, 1]\n",
    "                axes[digit].imshow(img[0, 0].cpu(), cmap='gray')\n",
    "                axes[digit].set_title(f'{digit}')\n",
    "                axes[digit].axis('off')\n",
    "            \n",
    "            plt.suptitle(\"All Generated Digits\", fontsize=16)\n",
    "            plt.tight_layout()\n",
    "            plt.show()\n",
    "        \n",
    "        else:\n",
    "            try:\n",
    "                digit = int(prompt)\n",
    "                if 0 <= digit <= 9:\n",
    "                    img = generate_digit(model, digit, num_samples=1)\n",
    "                    if img is not None:\n",
    "                        plot_digit(img, digit)\n",
    "                else:\n",
    "                    print(\"Please enter a digit between 0 and 9\")\n",
    "            except ValueError:\n",
    "                print(\"Invalid input. Please enter a digit (0-9), 'grid', or 'quit'\")"
   ]
  },
  {
   "cell_type": "code",
   "execution_count": null,
   "id": "f8bd4094",
   "metadata": {
    "papermill": {
     "duration": 0.004871,
     "end_time": "2025-08-10T21:27:17.708250",
     "exception": false,
     "start_time": "2025-08-10T21:27:17.703379",
     "status": "completed"
    },
    "tags": []
   },
   "outputs": [],
   "source": []
  },
  {
   "cell_type": "code",
   "execution_count": 8,
   "id": "8493e8d5",
   "metadata": {
    "execution": {
     "iopub.execute_input": "2025-08-10T21:27:17.719229Z",
     "iopub.status.busy": "2025-08-10T21:27:17.718733Z",
     "iopub.status.idle": "2025-08-10T21:39:39.444522Z",
     "shell.execute_reply": "2025-08-10T21:39:39.443384Z"
    },
    "papermill": {
     "duration": 741.732708,
     "end_time": "2025-08-10T21:39:39.445720",
     "exception": true,
     "start_time": "2025-08-10T21:27:17.713012",
     "status": "failed"
    },
    "tags": []
   },
   "outputs": [
    {
     "name": "stdout",
     "output_type": "stream",
     "text": [
      "\n",
      "Initializing model...\n",
      "Model parameters: 6,141,313\n",
      "\n",
      "Starting training...\n"
     ]
    },
    {
     "name": "stderr",
     "output_type": "stream",
     "text": [
      "Epoch 1/10: 100%|██████████| 469/469 [01:03<00:00,  7.41it/s, loss=0.0273]\n"
     ]
    },
    {
     "name": "stdout",
     "output_type": "stream",
     "text": [
      "Epoch 1/10, Average Loss: 0.0668\n"
     ]
    },
    {
     "name": "stderr",
     "output_type": "stream",
     "text": [
      "Epoch 2/10: 100%|██████████| 469/469 [01:07<00:00,  6.91it/s, loss=0.0241]\n"
     ]
    },
    {
     "name": "stdout",
     "output_type": "stream",
     "text": [
      "Epoch 2/10, Average Loss: 0.0313\n"
     ]
    },
    {
     "name": "stderr",
     "output_type": "stream",
     "text": [
      "Epoch 3/10: 100%|██████████| 469/469 [01:07<00:00,  6.97it/s, loss=0.0271]\n"
     ]
    },
    {
     "name": "stdout",
     "output_type": "stream",
     "text": [
      "Epoch 3/10, Average Loss: 0.0277\n"
     ]
    },
    {
     "name": "stderr",
     "output_type": "stream",
     "text": [
      "Epoch 4/10: 100%|██████████| 469/469 [01:08<00:00,  6.89it/s, loss=0.0268]\n"
     ]
    },
    {
     "name": "stdout",
     "output_type": "stream",
     "text": [
      "Epoch 4/10, Average Loss: 0.0261\n"
     ]
    },
    {
     "name": "stderr",
     "output_type": "stream",
     "text": [
      "Epoch 5/10: 100%|██████████| 469/469 [01:08<00:00,  6.89it/s, loss=0.0165]\n"
     ]
    },
    {
     "name": "stdout",
     "output_type": "stream",
     "text": [
      "Epoch 5/10, Average Loss: 0.0255\n"
     ]
    },
    {
     "name": "stderr",
     "output_type": "stream",
     "text": [
      "Epoch 6/10: 100%|██████████| 469/469 [01:08<00:00,  6.89it/s, loss=0.0324]\n"
     ]
    },
    {
     "name": "stdout",
     "output_type": "stream",
     "text": [
      "Epoch 6/10, Average Loss: 0.0249\n"
     ]
    },
    {
     "name": "stderr",
     "output_type": "stream",
     "text": [
      "Epoch 7/10: 100%|██████████| 469/469 [01:07<00:00,  6.90it/s, loss=0.0273]\n"
     ]
    },
    {
     "name": "stdout",
     "output_type": "stream",
     "text": [
      "Epoch 7/10, Average Loss: 0.0246\n"
     ]
    },
    {
     "name": "stderr",
     "output_type": "stream",
     "text": [
      "Epoch 8/10: 100%|██████████| 469/469 [01:08<00:00,  6.87it/s, loss=0.0224]\n"
     ]
    },
    {
     "name": "stdout",
     "output_type": "stream",
     "text": [
      "Epoch 8/10, Average Loss: 0.0241\n"
     ]
    },
    {
     "name": "stderr",
     "output_type": "stream",
     "text": [
      "Epoch 9/10: 100%|██████████| 469/469 [01:08<00:00,  6.88it/s, loss=0.0266]\n"
     ]
    },
    {
     "name": "stdout",
     "output_type": "stream",
     "text": [
      "Epoch 9/10, Average Loss: 0.0244\n"
     ]
    },
    {
     "name": "stderr",
     "output_type": "stream",
     "text": [
      "Epoch 10/10: 100%|██████████| 469/469 [01:08<00:00,  6.86it/s, loss=0.0225]\n"
     ]
    },
    {
     "name": "stdout",
     "output_type": "stream",
     "text": [
      "Epoch 10/10, Average Loss: 0.0236\n"
     ]
    },
    {
     "data": {
      "image/png": "[encoded data removed]",
      "text/plain": [
       "<Figure size 1000x500 with 1 Axes>"
      ]
     },
     "metadata": {},
     "output_type": "display_data"
    },
    {
     "name": "stdout",
     "output_type": "stream",
     "text": [
      "\n",
      "Generating random samples...\n"
     ]
    },
    {
     "name": "stderr",
     "output_type": "stream",
     "text": [
      "Sampling: 1000it [00:06, 155.53it/s]\n"
     ]
    },
    {
     "data": {
      "image/png": "[encoded data removed]",
      "text/plain": [
       "<Figure size 800x800 with 16 Axes>"
      ]
     },
     "metadata": {},
     "output_type": "display_data"
    },
    {
     "name": "stdout",
     "output_type": "stream",
     "text": [
      "\n",
      "Generating specific digits (0-9)...\n"
     ]
    },
    {
     "name": "stderr",
     "output_type": "stream",
     "text": [
      "Sampling: 1000it [00:04, 206.42it/s]\n",
      "Sampling: 1000it [00:04, 211.55it/s]\n",
      "Sampling: 1000it [00:04, 205.02it/s]\n",
      "Sampling: 1000it [00:04, 209.62it/s]\n",
      "Sampling: 1000it [00:04, 205.71it/s]\n",
      "Sampling: 1000it [00:04, 210.85it/s]\n",
      "Sampling: 1000it [00:04, 211.12it/s]\n",
      "Sampling: 1000it [00:04, 208.83it/s]\n",
      "Sampling: 1000it [00:04, 212.63it/s]\n",
      "Sampling: 1000it [00:04, 211.54it/s]\n"
     ]
    },
    {
     "data": {
      "image/png": "[encoded data removed]",
      "text/plain": [
       "<Figure size 1000x400 with 10 Axes>"
      ]
     },
     "metadata": {},
     "output_type": "display_data"
    },
    {
     "name": "stdout",
     "output_type": "stream",
     "text": [
      "\n",
      "Model saved as 'simple_diffusion_mnist.pth'\n",
      "\n",
      "==================================================\n",
      "EXAMPLE: Text Prompt Generation\n",
      "==================================================\n",
      "Generating digit 7 from prompt 'seven'...\n"
     ]
    },
    {
     "name": "stderr",
     "output_type": "stream",
     "text": [
      "Sampling: 1000it [00:04, 208.60it/s]\n"
     ]
    },
    {
     "data": {
      "image/png": "[encoded data removed]",
      "text/plain": [
       "<Figure size 400x400 with 1 Axes>"
      ]
     },
     "metadata": {},
     "output_type": "display_data"
    },
    {
     "name": "stdout",
     "output_type": "stream",
     "text": [
      "Generating digit 3 from prompt '3'...\n"
     ]
    },
    {
     "name": "stderr",
     "output_type": "stream",
     "text": [
      "Sampling: 1000it [00:04, 204.22it/s]\n"
     ]
    },
    {
     "data": {
      "image/png": "[encoded data removed]",
      "text/plain": [
       "<Figure size 400x400 with 1 Axes>"
      ]
     },
     "metadata": {},
     "output_type": "display_data"
    },
    {
     "name": "stdout",
     "output_type": "stream",
     "text": [
      "\n",
      "==================================================\n",
      "INTERACTIVE DIGIT GENERATION\n",
      "==================================================\n",
      "Enter a digit (0-9) to generate, or 'quit' to exit\n",
      "You can also enter 'grid' to see all digits\n",
      "==================================================\n"
     ]
    },
    {
     "ename": "StdinNotImplementedError",
     "evalue": "raw_input was called, but this frontend does not support input requests.",
     "output_type": "error",
     "traceback": [
      "\u001b[0;31m---------------------------------------------------------------------------\u001b[0m",
      "\u001b[0;31mStdinNotImplementedError\u001b[0m                  Traceback (most recent call last)",
      "\u001b[0;32m/tmp/ipykernel_19/3992541926.py\u001b[0m in \u001b[0;36m<cell line: 0>\u001b[0;34m()\u001b[0m\n\u001b[1;32m     72\u001b[0m \u001b[0;34m\u001b[0m\u001b[0m\n\u001b[1;32m     73\u001b[0m     \u001b[0;31m# Interactive generation\u001b[0m\u001b[0;34m\u001b[0m\u001b[0;34m\u001b[0m\u001b[0m\n\u001b[0;32m---> 74\u001b[0;31m     \u001b[0minteractive_generation\u001b[0m\u001b[0;34m(\u001b[0m\u001b[0mmodel\u001b[0m\u001b[0;34m)\u001b[0m\u001b[0;34m\u001b[0m\u001b[0;34m\u001b[0m\u001b[0m\n\u001b[0m\u001b[1;32m     75\u001b[0m \u001b[0;34m\u001b[0m\u001b[0m\n\u001b[1;32m     76\u001b[0m     \u001b[0mprint\u001b[0m\u001b[0;34m(\u001b[0m\u001b[0;34m\"\\nTraining complete!\"\u001b[0m\u001b[0;34m)\u001b[0m\u001b[0;34m\u001b[0m\u001b[0;34m\u001b[0m\u001b[0m\n",
      "\u001b[0;32m/tmp/ipykernel_19/314508901.py\u001b[0m in \u001b[0;36minteractive_generation\u001b[0;34m(model)\u001b[0m\n\u001b[1;32m     88\u001b[0m \u001b[0;34m\u001b[0m\u001b[0m\n\u001b[1;32m     89\u001b[0m     \u001b[0;32mwhile\u001b[0m \u001b[0;32mTrue\u001b[0m\u001b[0;34m:\u001b[0m\u001b[0;34m\u001b[0m\u001b[0;34m\u001b[0m\u001b[0m\n\u001b[0;32m---> 90\u001b[0;31m         \u001b[0mprompt\u001b[0m \u001b[0;34m=\u001b[0m \u001b[0minput\u001b[0m\u001b[0;34m(\u001b[0m\u001b[0;34m\"\\nEnter digit to generate: \"\u001b[0m\u001b[0;34m)\u001b[0m\u001b[0;34m.\u001b[0m\u001b[0mstrip\u001b[0m\u001b[0;34m(\u001b[0m\u001b[0;34m)\u001b[0m\u001b[0;34m.\u001b[0m\u001b[0mlower\u001b[0m\u001b[0;34m(\u001b[0m\u001b[0;34m)\u001b[0m\u001b[0;34m\u001b[0m\u001b[0;34m\u001b[0m\u001b[0m\n\u001b[0m\u001b[1;32m     91\u001b[0m \u001b[0;34m\u001b[0m\u001b[0m\n\u001b[1;32m     92\u001b[0m         \u001b[0;32mif\u001b[0m \u001b[0mprompt\u001b[0m \u001b[0;34m==\u001b[0m \u001b[0;34m'quit'\u001b[0m \u001b[0;32mor\u001b[0m \u001b[0mprompt\u001b[0m \u001b[0;34m==\u001b[0m \u001b[0;34m'q'\u001b[0m\u001b[0;34m:\u001b[0m\u001b[0;34m\u001b[0m\u001b[0;34m\u001b[0m\u001b[0m\n",
      "\u001b[0;32m/usr/local/lib/python3.11/dist-packages/ipykernel/kernelbase.py\u001b[0m in \u001b[0;36mraw_input\u001b[0;34m(self, prompt)\u001b[0m\n\u001b[1;32m   1172\u001b[0m         \"\"\"\n\u001b[1;32m   1173\u001b[0m         \u001b[0;32mif\u001b[0m \u001b[0;32mnot\u001b[0m \u001b[0mself\u001b[0m\u001b[0;34m.\u001b[0m\u001b[0m_allow_stdin\u001b[0m\u001b[0;34m:\u001b[0m\u001b[0;34m\u001b[0m\u001b[0;34m\u001b[0m\u001b[0m\n\u001b[0;32m-> 1174\u001b[0;31m             raise StdinNotImplementedError(\n\u001b[0m\u001b[1;32m   1175\u001b[0m                 \u001b[0;34m\"raw_input was called, but this frontend does not support input requests.\"\u001b[0m\u001b[0;34m\u001b[0m\u001b[0;34m\u001b[0m\u001b[0m\n\u001b[1;32m   1176\u001b[0m             )\n",
      "\u001b[0;31mStdinNotImplementedError\u001b[0m: raw_input was called, but this frontend does not support input requests."
     ]
    }
   ],
   "source": [
    "# ====================\n",
    "# MAIN EXECUTION\n",
    "# ====================\n",
    "if __name__ == \"__main__\":\n",
    "    # Initialize model\n",
    "    print(\"\\nInitializing model...\")\n",
    "    model = SimpleUNet(num_classes=10).to(device)\n",
    "    total_params = sum(p.numel() for p in model.parameters())\n",
    "    print(f\"Model parameters: {total_params:,}\")\n",
    "    \n",
    "    # Train model\n",
    "    print(\"\\nStarting training...\")\n",
    "    losses = train_model(model, train_loader, epochs=10, lr=1e-3)\n",
    "    \n",
    "    # Plot training loss\n",
    "    plt.figure(figsize=(10, 5))\n",
    "    plt.plot(losses)\n",
    "    plt.xlabel('Epoch')\n",
    "    plt.ylabel('Loss')\n",
    "    plt.title('Training Loss')\n",
    "    plt.grid(True)\n",
    "    plt.show()\n",
    "    \n",
    "    # Generate random samples\n",
    "    print(\"\\nGenerating random samples...\")\n",
    "    samples = sample(model, num_samples=16)\n",
    "    show_samples(samples, \"Random Generated Samples\")\n",
    "    \n",
    "    # Generate specific digits\n",
    "    print(\"\\nGenerating specific digits (0-9)...\")\n",
    "    fig, axes = plt.subplots(2, 5, figsize=(10, 4))\n",
    "    axes = axes.flatten()\n",
    "    \n",
    "    for digit in range(10):\n",
    "        class_label = torch.tensor([digit], device=device, dtype=torch.long)\n",
    "        img = sample(model, num_samples=1, class_labels=class_label)\n",
    "        img = (img + 1) / 2  # Convert to [0, 1]\n",
    "        axes[digit].imshow(img[0, 0].cpu(), cmap='gray')\n",
    "        axes[digit].set_title(f'Digit: {digit}')\n",
    "        axes[digit].axis('off')\n",
    "    \n",
    "    plt.suptitle(\"Class-Conditioned Generation\", fontsize=16)\n",
    "    plt.tight_layout()\n",
    "    plt.show()\n",
    "    \n",
    "    # Save model\n",
    "    torch.save(model.state_dict(), 'simple_diffusion_mnist.pth')\n",
    "    print(\"\\nModel saved as 'simple_diffusion_mnist.pth'\")\n",
    "    \n",
    "    # Example: Generate from text prompt (similar to Stable Diffusion interface)\n",
    "    print(\"\\n\" + \"=\"*50)\n",
    "    print(\"EXAMPLE: Text Prompt Generation\")\n",
    "    print(\"=\"*50)\n",
    "    \n",
    "    # Example 1: Generate from text\n",
    "    prompt = \"seven\"\n",
    "    img = generate_digit_from_prompt(\n",
    "        prompt=prompt,\n",
    "        model=model,\n",
    "        num_inference_steps=1000\n",
    "    )\n",
    "    plot_image(img, prompt)\n",
    "    \n",
    "    # Example 2: Generate from number\n",
    "    prompt = \"3\"\n",
    "    img = generate_digit_from_prompt(\n",
    "        prompt=prompt,\n",
    "        model=model,\n",
    "        num_inference_steps=1000\n",
    "    )\n",
    "    plot_image(img, prompt)\n",
    "    \n",
    "    # Interactive generation\n",
    "    interactive_generation(model)\n",
    "    \n",
    "    print(\"\\nTraining complete!\")"
   ]
  },
  {
   "cell_type": "code",
   "execution_count": null,
   "id": "0876cf96",
   "metadata": {
    "papermill": {
     "duration": null,
     "end_time": null,
     "exception": null,
     "start_time": null,
     "status": "pending"
    },
    "tags": []
   },
   "outputs": [],
   "source": []
  },
  {
   "cell_type": "markdown",
   "id": "67fa19f8",
   "metadata": {
    "papermill": {
     "duration": null,
     "end_time": null,
     "exception": null,
     "start_time": null,
     "status": "pending"
    },
    "tags": []
   },
   "source": [
    "## . Conclusion & Next Steps <a id='conclusion'></a>\n",
    "\n",
    "### What We've Accomplished\n",
    "- Built a complete diffusion model from scratch\n",
    "- Implemented U-Net architecture with attention mechanisms\n",
    "- Trained on MNIST dataset with conditional generation\n",
    "- Implemented DDPM sampling algorithm\n",
    "- Demonstrated classifier-free guidance\n",
    "- Visualized the entire diffusion process\n",
    "\n",
    "### Key Insights\n",
    "1. **Time Embeddings**: Critical for the model to understand which denoising step it's performing\n",
    "2. **U-Net Architecture**: Skip connections preserve fine details during generation\n",
    "3. **Attention Mechanisms**: Help capture long-range dependencies in images\n",
    "4. **Noise Schedules**: Different schedules can significantly impact generation quality\n",
    "5. **Classifier-Free Guidance**: Enables controllable generation without external classifiers\n",
    "\n",
    "### Potential Improvements\n",
    "- **Higher Resolution**: Scale to larger images (64x64, 128x128)\n",
    "- **More Complex Datasets**: CIFAR-10, CelebA, etc.\n",
    "- **Advanced Sampling**: DDIM, DPM-Solver for faster generation\n",
    "- **Latent Diffusion**: Work in compressed latent space like Stable Diffusion\n",
    "- **Text Conditioning**: Add text-to-image capabilities\n",
    "\n",
    "### Further Reading\n",
    "- [Denoising Diffusion Probabilistic Models (Ho et al., 2020)](https://arxiv.org/abs/2006.11239)\n",
    "- [Improved Denoising Diffusion Probabilistic Models (Nichol & Dhariwal, 2021)](https://arxiv.org/abs/2102.09672)\n",
    "- [Classifier-Free Diffusion Guidance (Ho & Salimans, 2022)](https://arxiv.org/abs/2207.12598)\n",
    "- [High-Resolution Image Synthesis with Latent Diffusion Models (Rombach et al., 2022)](https://arxiv.org/abs/2112.10752)"
   ]
  },
  {
   "cell_type": "code",
   "execution_count": null,
   "id": "250cecf2",
   "metadata": {
    "papermill": {
     "duration": null,
     "end_time": null,
     "exception": null,
     "start_time": null,
     "status": "pending"
    },
    "tags": []
   },
   "outputs": [],
   "source": []
  },
  {
   "cell_type": "code",
   "execution_count": null,
   "id": "edd629e3",
   "metadata": {
    "papermill": {
     "duration": null,
     "end_time": null,
     "exception": null,
     "start_time": null,
     "status": "pending"
    },
    "tags": []
   },
   "outputs": [],
   "source": []
  },
  {
   "cell_type": "code",
   "execution_count": null,
   "id": "3764a761",
   "metadata": {
    "papermill": {
     "duration": null,
     "end_time": null,
     "exception": null,
     "start_time": null,
     "status": "pending"
    },
    "tags": []
   },
   "outputs": [],
   "source": []
  },
  {
   "cell_type": "code",
   "execution_count": null,
   "id": "6a1b2cac",
   "metadata": {
    "papermill": {
     "duration": null,
     "end_time": null,
     "exception": null,
     "start_time": null,
     "status": "pending"
    },
    "tags": []
   },
   "outputs": [],
   "source": []
  }
 ],
 "metadata": {
  "kaggle": {
   "accelerator": "nvidiaTeslaT4",
   "dataSources": [],
   "dockerImageVersionId": 31090,
   "isGpuEnabled": true,
   "isInternetEnabled": true,
   "language": "python",
   "sourceType": "notebook"
  },
  "kernelspec": {
   "display_name": "Python 3",
   "language": "python",
   "name": "python3"
  },
  "language_info": {
   "codemirror_mode": {
    "name": "ipython",
    "version": 3
   },
   "file_extension": ".py",
   "mimetype": "text/x-python",
   "name": "python",
   "nbconvert_exporter": "python",
   "pygments_lexer": "ipython3",
   "version": "3.11.13"
  },
  "papermill": {
   "default_parameters": {},
   "duration": 762.94418,
   "end_time": "2025-08-10T21:39:42.384557",
   "environment_variables": {},
   "exception": true,
   "input_path": "__notebook__.ipynb",
   "output_path": "__notebook__.ipynb",
   "parameters": {},
   "start_time": "2025-08-10T21:26:59.440377",
   "version": "2.6.0"
  }
 },
 "nbformat": 4,
 "nbformat_minor": 5
}
